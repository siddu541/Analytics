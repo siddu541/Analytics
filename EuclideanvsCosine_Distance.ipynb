{
  "nbformat": 4,
  "nbformat_minor": 0,
  "metadata": {
    "colab": {
      "name": "EuclideanvsCosine Distance.ipynb",
      "version": "0.3.2",
      "provenance": [],
      "collapsed_sections": [],
      "include_colab_link": true
    },
    "kernelspec": {
      "name": "python3",
      "display_name": "Python 3"
    }
  },
  "cells": [
    {
      "cell_type": "markdown",
      "metadata": {
        "id": "view-in-github",
        "colab_type": "text"
      },
      "source": [
        "<a href=\"https://colab.research.google.com/github/siddu541/Analytics/blob/master/EuclideanvsCosine_Distance.ipynb\" target=\"_parent\"><img src=\"https://colab.research.google.com/assets/colab-badge.svg\" alt=\"Open In Colab\"/></a>"
      ]
    },
    {
      "metadata": {
        "id": "6LSKDRfq_d-V",
        "colab_type": "code",
        "colab": {}
      },
      "cell_type": "code",
      "source": [
        "#https://cmry.github.io/notes/euclidean-v-cosine\n",
        "import numpy as np\n",
        "\n",
        "X = np.array([[6.6, 6.2, 1],\n",
        "              [9.7, 9.9, 2],\n",
        "              [8.0, 8.3, 2],\n",
        "              [6.3, 5.4, 1],\n",
        "              [1.3, 2.7, 0],\n",
        "              [2.3, 3.1, 0],\n",
        "              [6.6, 6.0, 1],\n",
        "              [6.5, 6.4, 1],\n",
        "              [6.3, 5.8, 1],\n",
        "              [9.5, 9.9, 2],\n",
        "              [8.9, 8.9, 2],\n",
        "              [8.7, 9.5, 2],\n",
        "              [2.5, 3.8, 0],\n",
        "              [2.0, 3.1, 0],\n",
        "              [1.3, 1.3, 0]])"
      ],
      "execution_count": 0,
      "outputs": []
    },
    {
      "metadata": {
        "id": "TwBbiwkJ_pdI",
        "colab_type": "code",
        "colab": {
          "base_uri": "https://localhost:8080/",
          "height": 491
        },
        "outputId": "8ddcdc1f-1b42-4b93-d850-32908a7d2ec0"
      },
      "cell_type": "code",
      "source": [
        "import pandas as pd\n",
        "\n",
        "df=pd.DataFrame(X,columns=['weight','length','label'])\n",
        "df"
      ],
      "execution_count": 4,
      "outputs": [
        {
          "output_type": "execute_result",
          "data": {
            "text/html": [
              "<div>\n",
              "<style scoped>\n",
              "    .dataframe tbody tr th:only-of-type {\n",
              "        vertical-align: middle;\n",
              "    }\n",
              "\n",
              "    .dataframe tbody tr th {\n",
              "        vertical-align: top;\n",
              "    }\n",
              "\n",
              "    .dataframe thead th {\n",
              "        text-align: right;\n",
              "    }\n",
              "</style>\n",
              "<table border=\"1\" class=\"dataframe\">\n",
              "  <thead>\n",
              "    <tr style=\"text-align: right;\">\n",
              "      <th></th>\n",
              "      <th>weight</th>\n",
              "      <th>length</th>\n",
              "      <th>label</th>\n",
              "    </tr>\n",
              "  </thead>\n",
              "  <tbody>\n",
              "    <tr>\n",
              "      <th>0</th>\n",
              "      <td>6.6</td>\n",
              "      <td>6.2</td>\n",
              "      <td>1.0</td>\n",
              "    </tr>\n",
              "    <tr>\n",
              "      <th>1</th>\n",
              "      <td>9.7</td>\n",
              "      <td>9.9</td>\n",
              "      <td>2.0</td>\n",
              "    </tr>\n",
              "    <tr>\n",
              "      <th>2</th>\n",
              "      <td>8.0</td>\n",
              "      <td>8.3</td>\n",
              "      <td>2.0</td>\n",
              "    </tr>\n",
              "    <tr>\n",
              "      <th>3</th>\n",
              "      <td>6.3</td>\n",
              "      <td>5.4</td>\n",
              "      <td>1.0</td>\n",
              "    </tr>\n",
              "    <tr>\n",
              "      <th>4</th>\n",
              "      <td>1.3</td>\n",
              "      <td>2.7</td>\n",
              "      <td>0.0</td>\n",
              "    </tr>\n",
              "    <tr>\n",
              "      <th>5</th>\n",
              "      <td>2.3</td>\n",
              "      <td>3.1</td>\n",
              "      <td>0.0</td>\n",
              "    </tr>\n",
              "    <tr>\n",
              "      <th>6</th>\n",
              "      <td>6.6</td>\n",
              "      <td>6.0</td>\n",
              "      <td>1.0</td>\n",
              "    </tr>\n",
              "    <tr>\n",
              "      <th>7</th>\n",
              "      <td>6.5</td>\n",
              "      <td>6.4</td>\n",
              "      <td>1.0</td>\n",
              "    </tr>\n",
              "    <tr>\n",
              "      <th>8</th>\n",
              "      <td>6.3</td>\n",
              "      <td>5.8</td>\n",
              "      <td>1.0</td>\n",
              "    </tr>\n",
              "    <tr>\n",
              "      <th>9</th>\n",
              "      <td>9.5</td>\n",
              "      <td>9.9</td>\n",
              "      <td>2.0</td>\n",
              "    </tr>\n",
              "    <tr>\n",
              "      <th>10</th>\n",
              "      <td>8.9</td>\n",
              "      <td>8.9</td>\n",
              "      <td>2.0</td>\n",
              "    </tr>\n",
              "    <tr>\n",
              "      <th>11</th>\n",
              "      <td>8.7</td>\n",
              "      <td>9.5</td>\n",
              "      <td>2.0</td>\n",
              "    </tr>\n",
              "    <tr>\n",
              "      <th>12</th>\n",
              "      <td>2.5</td>\n",
              "      <td>3.8</td>\n",
              "      <td>0.0</td>\n",
              "    </tr>\n",
              "    <tr>\n",
              "      <th>13</th>\n",
              "      <td>2.0</td>\n",
              "      <td>3.1</td>\n",
              "      <td>0.0</td>\n",
              "    </tr>\n",
              "    <tr>\n",
              "      <th>14</th>\n",
              "      <td>1.3</td>\n",
              "      <td>1.3</td>\n",
              "      <td>0.0</td>\n",
              "    </tr>\n",
              "  </tbody>\n",
              "</table>\n",
              "</div>"
            ],
            "text/plain": [
              "    weight  length  label\n",
              "0      6.6     6.2    1.0\n",
              "1      9.7     9.9    2.0\n",
              "2      8.0     8.3    2.0\n",
              "3      6.3     5.4    1.0\n",
              "4      1.3     2.7    0.0\n",
              "5      2.3     3.1    0.0\n",
              "6      6.6     6.0    1.0\n",
              "7      6.5     6.4    1.0\n",
              "8      6.3     5.8    1.0\n",
              "9      9.5     9.9    2.0\n",
              "10     8.9     8.9    2.0\n",
              "11     8.7     9.5    2.0\n",
              "12     2.5     3.8    0.0\n",
              "13     2.0     3.1    0.0\n",
              "14     1.3     1.3    0.0"
            ]
          },
          "metadata": {
            "tags": []
          },
          "execution_count": 4
        }
      ]
    },
    {
      "metadata": {
        "id": "12_4hkGM_suM",
        "colab_type": "code",
        "colab": {
          "base_uri": "https://localhost:8080/",
          "height": 296
        },
        "outputId": "d07ae630-90f7-4dca-86d6-75bc9928c775"
      },
      "cell_type": "code",
      "source": [
        "%matplotlib inline\n",
        "\n",
        "ax = df[df['label'] == 0].plot.scatter(x='weight', y='length', c='blue', label='young')\n",
        "ax = df[df['label'] == 1].plot.scatter(x='weight', y='length', c='orange', label='mid', ax=ax)\n",
        "ax = df[df['label'] == 2].plot.scatter(x='weight', y='length', c='red', label='adult', ax=ax)\n",
        "ax\n",
        "\n"
      ],
      "execution_count": 5,
      "outputs": [
        {
          "output_type": "execute_result",
          "data": {
            "text/plain": [
              "<matplotlib.axes._subplots.AxesSubplot at 0x7faa14940588>"
            ]
          },
          "metadata": {
            "tags": []
          },
          "execution_count": 5
        },
        {
          "output_type": "display_data",
          "data": {
            "image/png": "[encoded data removed]",
            "text/plain": [
              "<Figure size 432x288 with 1 Axes>"
            ]
          },
          "metadata": {
            "tags": []
          }
        }
      ]
    },
    {
      "metadata": {
        "id": "kq0S1GUAF89v",
        "colab_type": "code",
        "colab": {}
      },
      "cell_type": "code",
      "source": [
        "def  euclidean_distance(x, y):\n",
        "      return np.sqrt(np.sum((x-y)**2))"
      ],
      "execution_count": 0,
      "outputs": []
    },
    {
      "metadata": {
        "id": "Qbgvt83zGR9W",
        "colab_type": "code",
        "colab": {
          "base_uri": "https://localhost:8080/",
          "height": 84
        },
        "outputId": "f2ed1b73-2120-42bf-ce76-728fb3252325"
      },
      "cell_type": "code",
      "source": [
        "#Picking our Metric\n",
        "#Considering instance #0, #1, and #4 to be our known instances, we assume that we don’t know the label of #14. Plotting this will look as follows:\n",
        "\n",
        "x0 = X[0][:-1]\n",
        "x1 = X[1][:-1]\n",
        "x4 = X[4][:-1]\n",
        "x14 = X[14][:-1]\n",
        "print(\" x0:\", x0, \"\\n x1:\", x1, \"\\n x4:\", x4, \"\\nx14:\", x14)"
      ],
      "execution_count": 8,
      "outputs": [
        {
          "output_type": "stream",
          "text": [
            " x0: [6.6 6.2] \n",
            " x1: [9.7 9.9] \n",
            " x4: [1.3 2.7] \n",
            "x14: [1.3 1.3]\n"
          ],
          "name": "stdout"
        }
      ]
    },
    {
      "metadata": {
        "id": "auurmZYmGeL8",
        "colab_type": "code",
        "colab": {
          "base_uri": "https://localhost:8080/",
          "height": 67
        },
        "outputId": "11b6914b-90df-4fc4-b758-b8a90a0add4b"
      },
      "cell_type": "code",
      "source": [
        "print(\" x14 and x0:\", euclidean_distance(x14, x0), \"\\n\",\n",
        "      \"x14 and x1:\", euclidean_distance(x14, x1), \"\\n\",\n",
        "      \"x14 and x4:\", euclidean_distance(x14, x4))"
      ],
      "execution_count": 9,
      "outputs": [
        {
          "output_type": "stream",
          "text": [
            " x14 and x0: 7.218032973047436 \n",
            " x14 and x1: 12.021647141718974 \n",
            " x14 and x4: 1.4000000000000001\n"
          ],
          "name": "stdout"
        }
      ]
    },
    {
      "metadata": {
        "id": "N5oYO1ANGnrs",
        "colab_type": "code",
        "colab": {
          "base_uri": "https://localhost:8080/",
          "height": 34
        },
        "outputId": "c3afb2ee-23e0-4bf4-d9d6-f0fa2fbe7eaa"
      },
      "cell_type": "code",
      "source": [
        "X[4]"
      ],
      "execution_count": 10,
      "outputs": [
        {
          "output_type": "execute_result",
          "data": {
            "text/plain": [
              "array([1.3, 2.7, 0. ])"
            ]
          },
          "metadata": {
            "tags": []
          },
          "execution_count": 10
        }
      ]
    },
    {
      "metadata": {
        "id": "mMfWsYCgGsAr",
        "colab_type": "code",
        "colab": {}
      },
      "cell_type": "code",
      "source": [
        "#Cosine\n",
        "\n",
        "def cosinesimilarty(x,y):\n",
        "    return np.dot(x,y)/(np.sqrt(np.dot(x,x)) * np.sqrt(np.dot(y,y)))\n"
      ],
      "execution_count": 0,
      "outputs": []
    },
    {
      "metadata": {
        "id": "4D_Qh9SpKRo2",
        "colab_type": "code",
        "colab": {
          "base_uri": "https://localhost:8080/",
          "height": 67
        },
        "outputId": "ac1851df-c5af-4220-c089-9bad34defbb1"
      },
      "cell_type": "code",
      "source": [
        "print(\" x14 and x0:\", cosinesimilarty(x14, x0), \"\\n\",\n",
        "      \"x14 and x1:\", cosinesimilarty(x14, x1), \"\\n\",\n",
        "      \"x14 and x4:\", cosinesimilarty(x14, x4))"
      ],
      "execution_count": 14,
      "outputs": [
        {
          "output_type": "stream",
          "text": [
            " x14 and x0: 0.9995120760870786 \n",
            " x14 and x1: 0.9999479424242859 \n",
            " x14 and x4: 0.9438583563660174\n"
          ],
          "name": "stdout"
        }
      ]
    },
    {
      "metadata": {
        "id": "tbWvj0Z6KZRs",
        "colab_type": "code",
        "colab": {
          "base_uri": "https://localhost:8080/",
          "height": 34
        },
        "outputId": "dca2fb47-a560-456d-d6cc-264ff34c7932"
      },
      "cell_type": "code",
      "source": [
        "X[1]"
      ],
      "execution_count": 15,
      "outputs": [
        {
          "output_type": "execute_result",
          "data": {
            "text/plain": [
              "array([9.7, 9.9, 2. ])"
            ]
          },
          "metadata": {
            "tags": []
          },
          "execution_count": 15
        }
      ]
    },
    {
      "metadata": {
        "id": "GerjBldBK2KV",
        "colab_type": "code",
        "colab": {
          "base_uri": "https://localhost:8080/",
          "height": 67
        },
        "outputId": "3108db6d-8ea0-4346-cb97-8a7d64a48a0a"
      },
      "cell_type": "code",
      "source": [
        "print(\"vectors \\t\", x0, x1, \"\\n\"\n",
        "      \"euclidean \\t\", euclidean_distance(x0, x1), \"\\n\"\n",
        "      \"cosine \\t\\t\", cosinesimilarty(x0, x1))"
      ],
      "execution_count": 17,
      "outputs": [
        {
          "output_type": "stream",
          "text": [
            "vectors \t [6.6 6.2] [9.7 9.9] \n",
            "euclidean \t 4.827007354458868 \n",
            "cosine \t\t 0.9991413385403556\n"
          ],
          "name": "stdout"
        }
      ]
    }
  ]
}